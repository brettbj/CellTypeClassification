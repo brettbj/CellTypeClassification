{
 "cells": [
  {
   "cell_type": "code",
   "execution_count": 1,
   "metadata": {
    "collapsed": false
   },
   "outputs": [],
   "source": [
    "import cv2"
   ]
  },
  {
   "cell_type": "code",
   "execution_count": 2,
   "metadata": {
    "collapsed": false
   },
   "outputs": [
    {
     "name": "stdout",
     "output_type": "stream",
     "text": [
      "(347, 256, 256)\n",
      "(347,)\n"
     ]
    }
   ],
   "source": [
    "import os\n",
    "import numpy as np\n",
    "from scipy import ndimage, misc\n",
    "from sklearn.utils import shuffle\n",
    "from sklearn.cross_validation import StratifiedKFold\n",
    "from sklearn import datasets, svm, metrics\n",
    "\n",
    "import skimage\n",
    "from skimage.feature import local_binary_pattern\n",
    "from skimage import data\n",
    "\n",
    "directory = './Images/'\n",
    "\n",
    "def load(seed=123):\n",
    "    X = []\n",
    "    y = []\n",
    "    for i in range(5):\n",
    "        cur_direct = directory + 'Cluster ' + str(i + 1) + '/'\n",
    "        for jpg in os.listdir(cur_direct):\n",
    "            # Flatten for simpler models, don't want to do this for CNN\n",
    "#             X.append(misc.imresize(ndimage.imread(cur_direct + jpg, flatten=True), 0.2))\n",
    "#             X.append((ndimage.imread(cur_direct + jpg, flatten=False)/255.))\n",
    "            X.append(skimage.transform.resize(data.imread(cur_direct + jpg,\n",
    "                                                          flatten=True,\n",
    "                                                          as_grey=True), \n",
    "                                              (256, 256)))\n",
    "            y.append(i+1)\n",
    "    \n",
    "    X = np.asarray(X)\n",
    "    y = np.asarray(y)\n",
    "  \n",
    "    X, y = shuffle(X, y, random_state=seed)  # shuffle train data\n",
    "    \n",
    "    X = X.astype('float32')\n",
    "    y = y.astype('float32')\n",
    "    return (X, y)\n",
    "#     return (X, y)\n",
    "\n",
    "X, y = load()\n",
    "print(X.shape)\n",
    "print(y.shape)"
   ]
  },
  {
   "cell_type": "code",
   "execution_count": 3,
   "metadata": {
    "collapsed": false,
    "scrolled": false
   },
   "outputs": [
    {
     "name": "stdout",
     "output_type": "stream",
     "text": [
      "347\n",
      "<type 'numpy.ndarray'>\n",
      "(65536,)\n"
     ]
    }
   ],
   "source": [
    "import matplotlib.pyplot as plt\n",
    "%matplotlib inline\n",
    "\n",
    "radius = 6\n",
    "n_points = 4 * radius\n",
    "METHOD = 'uniform'\n",
    "\n",
    "X_ls = []\n",
    "\n",
    "for x in X:\n",
    "    X_ls.append(np.asarray(local_binary_pattern(x, n_points, radius, METHOD)).ravel())\n",
    "\n",
    "X_ls = np.asarray(X_ls)\n",
    "print(len(X_ls))\n",
    "print(type(X_ls[0]))\n",
    "print(X_ls[0].shape)"
   ]
  },
  {
   "cell_type": "code",
   "execution_count": null,
   "metadata": {
    "collapsed": true
   },
   "outputs": [],
   "source": [
    "# from skimage.transform import rotate\n",
    "# from skimage.color import label2rgb\n",
    "\n",
    "# # settings for LBP\n",
    "# radius = 3\n",
    "# n_points = 8 * radius\n",
    "\n",
    "# skf = StratifiedKFold(y, n_folds=3)\n",
    "\n",
    "# for train, test in skf:\n",
    "    "
   ]
  },
  {
   "cell_type": "code",
   "execution_count": 4,
   "metadata": {
    "collapsed": false
   },
   "outputs": [
    {
     "name": "stdout",
     "output_type": "stream",
     "text": [
      "(347, 65536)\n",
      "(347,)\n",
      "(229, 65536)\n",
      "Classification report for classifier SVC(C=1.0, cache_size=200, class_weight='balanced', coef0=0.0,\n",
      "  decision_function_shape=None, degree=3, gamma='auto', kernel='poly',\n",
      "  max_iter=-1, probability=False, random_state=None, shrinking=True,\n",
      "  tol=0.001, verbose=False):\n",
      "             precision    recall  f1-score   support\n",
      "\n",
      "        1.0       0.00      0.00      0.00        17\n",
      "        2.0       0.48      1.00      0.65        36\n",
      "        3.0       0.00      0.00      0.00        12\n",
      "        4.0       0.72      0.84      0.77        37\n",
      "        5.0       0.00      0.00      0.00        16\n",
      "\n",
      "avg / total       0.37      0.57      0.44       118\n",
      "\n",
      "\n",
      "Confusion matrix:\n",
      "[[ 0  5  0 12  0]\n",
      " [ 0 36  0  0  0]\n",
      " [ 0 12  0  0  0]\n",
      " [ 0  6  0 31  0]\n",
      " [ 0 16  0  0  0]]\n",
      "(347, 65536)\n",
      "(347,)\n",
      "(231, 65536)\n",
      "Classification report for classifier SVC(C=1.0, cache_size=200, class_weight='balanced', coef0=0.0,\n",
      "  decision_function_shape=None, degree=3, gamma='auto', kernel='poly',\n",
      "  max_iter=-1, probability=False, random_state=None, shrinking=True,\n",
      "  tol=0.001, verbose=False):\n",
      "             precision    recall  f1-score   support\n",
      "\n",
      "        1.0       0.00      0.00      0.00        17\n",
      "        2.0       0.49      1.00      0.65        36\n",
      "        3.0       0.00      0.00      0.00        11\n",
      "        4.0       0.76      0.89      0.82        36\n",
      "        5.0       0.00      0.00      0.00        16\n",
      "\n",
      "avg / total       0.39      0.59      0.46       116\n",
      "\n",
      "\n",
      "Confusion matrix:\n",
      "[[ 0  9  0  8  0]\n",
      " [ 0 36  0  0  0]\n",
      " [ 0 11  0  0  0]\n",
      " [ 0  4  0 32  0]\n",
      " [ 0 14  0  2  0]]\n",
      "(347, 65536)\n",
      "(347,)\n",
      "(234, 65536)\n",
      "Classification report for classifier SVC(C=1.0, cache_size=200, class_weight='balanced', coef0=0.0,\n",
      "  decision_function_shape=None, degree=3, gamma='auto', kernel='poly',\n",
      "  max_iter=-1, probability=False, random_state=None, shrinking=True,\n",
      "  tol=0.001, verbose=False):\n",
      "             precision    recall  f1-score   support\n",
      "\n",
      "        1.0       0.00      0.00      0.00        16\n",
      "        2.0       0.43      0.97      0.60        35\n",
      "        3.0       0.00      0.00      0.00        11\n",
      "        4.0       0.79      0.75      0.77        36\n",
      "        5.0       0.00      0.00      0.00        15\n",
      "\n",
      "avg / total       0.39      0.54      0.43       113\n",
      "\n",
      "\n",
      "Confusion matrix:\n",
      "[[ 0 10  0  6  0]\n",
      " [ 0 34  0  1  0]\n",
      " [ 0 11  0  0  0]\n",
      " [ 0  9  0 27  0]\n",
      " [ 0 15  0  0  0]]\n"
     ]
    },
    {
     "name": "stderr",
     "output_type": "stream",
     "text": [
      "/home/brett/anaconda/lib/python2.7/site-packages/sklearn/metrics/classification.py:1074: UndefinedMetricWarning: Precision and F-score are ill-defined and being set to 0.0 in labels with no predicted samples.\n",
      "  'precision', 'predicted', average, warn_for)\n"
     ]
    }
   ],
   "source": [
    "skf = StratifiedKFold(y, n_folds=3)\n",
    "\n",
    "for train, test in skf:\n",
    "    print(X_ls.shape)\n",
    "    print(y.shape)\n",
    "    print(X_ls[train].shape)\n",
    "    classifier = svm.SVC(kernel='poly', class_weight='balanced')\n",
    "    classifier.fit(X_ls[train], y[train])\n",
    "\n",
    "    # Now predict the value of the digit on the second half:\n",
    "    expected = y[test]\n",
    "    predicted = classifier.predict(X_ls[test])\n",
    "\n",
    "    print(\"Classification report for classifier %s:\\n%s\\n\"\n",
    "          % (classifier, metrics.classification_report(expected, predicted)))\n",
    "    print(\"Confusion matrix:\\n%s\" % metrics.confusion_matrix(expected, predicted))"
   ]
  },
  {
   "cell_type": "code",
   "execution_count": null,
   "metadata": {
    "collapsed": false,
    "scrolled": false
   },
   "outputs": [],
   "source": [
    "from sklearn.ensemble import RandomForestClassifier\n",
    "from sklearn.cross_validation import StratifiedKFold\n",
    "skf = StratifiedKFold(y, n_folds=3)\n",
    "\n",
    "for train, test in skf:\n",
    "    classifier = RandomForestClassifier(n_estimators=1000, class_weight=\"balanced\")\n",
    "    classifier.fit(X_ls[train], y[train])\n",
    "\n",
    "    print(y[train])\n",
    "    print(y[test])\n",
    "\n",
    "    # Now predict the value of the digit on the second half:\n",
    "    expected = y[test]\n",
    "    predicted = classifier.predict(X_ls[test])\n",
    "\n",
    "    print(\"Classification report for classifier %s:\\n%s\\n\"\n",
    "          % (classifier, metrics.classification_report(expected, predicted)))\n",
    "    print(\"Confusion matrix:\\n%s\" % metrics.confusion_matrix(expected, predicted))"
   ]
  },
  {
   "cell_type": "code",
   "execution_count": null,
   "metadata": {
    "collapsed": false
   },
   "outputs": [],
   "source": [
    "from sklearn.ensemble import RandomForestClassifier\n",
    "from sklearn.cross_validation import StratifiedKFold\n",
    "from sklearn.discriminant_analysis import LinearDiscriminantAnalysis\n",
    "skf = StratifiedKFold(y, n_folds=3)\n",
    "\n",
    "for train, test in skf:\n",
    "    classifier = LinearDiscriminantAnalysis(solver='lsqr', shrinkage='auto')\n",
    "    classifier.fit(X_ls[train], y[train])\n",
    "\n",
    "    print(y[train])\n",
    "    print(y[test])\n",
    "\n",
    "    # Now predict the value of the digit on the second half:\n",
    "    expected = y[test]\n",
    "    predicted = classifier.predict(X_ls[test])\n",
    "\n",
    "    print(\"Classification report for classifier %s:\\n%s\\n\"\n",
    "          % (classifier, metrics.classification_report(expected, predicted)))\n",
    "    print(\"Confusion matrix:\\n%s\" % metrics.confusion_matrix(expected, predicted))\n",
    "    \n"
   ]
  },
  {
   "cell_type": "code",
   "execution_count": null,
   "metadata": {
    "collapsed": true
   },
   "outputs": [],
   "source": []
  }
 ],
 "metadata": {
  "kernelspec": {
   "display_name": "Python 2",
   "language": "python",
   "name": "python2"
  },
  "language_info": {
   "codemirror_mode": {
    "name": "ipython",
    "version": 2
   },
   "file_extension": ".py",
   "mimetype": "text/x-python",
   "name": "python",
   "nbconvert_exporter": "python",
   "pygments_lexer": "ipython2",
   "version": "2.7.11"
  }
 },
 "nbformat": 4,
 "nbformat_minor": 0
}
